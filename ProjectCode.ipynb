{
  "cells": [
    {
      "cell_type": "code",
      "execution_count": 41,
      "metadata": {
        "colab": {
          "base_uri": "https://localhost:8080/",
          "height": 1000
        },
        "id": "FROstvJMc7Pv",
        "outputId": "4dfea43e-a112-414c-a0cf-63eefd7e68d1"
      },
      "outputs": [
        {
          "name": "stdout",
          "output_type": "stream",
          "text": [
            "X Shape: (1025, 13), y shape: (1025,)\n",
            "Number of patients with heart disease 526.0\n",
            "Percentage of patients with heart disease 0.513\n",
            "X Train Shape: (820, 13), y train shape: (820,)\n",
            "X Test Shape: (205, 13), y test shape: (205,)\n",
            "Number of patients with heart disease (training) 411.0\n",
            "Number of patients with heart disease (test) 115.0\n",
            "[0. 0. 0. ... 0. 1. 0.]\n"
          ]
        }
      ],
      "source": [
        "# Data preprocessing \n",
        "import pandas as pd\n",
        "import numpy as np\n",
        "from sklearn.model_selection import train_test_split\n",
        "from sklearn.metrics import accuracy_score\n",
        "import matplotlib.pyplot as plt\n",
        "heart = np.genfromtxt(\"heart.csv\", delimiter=',', skip_header=1)\n",
        "X=heart[:, :-1]\n",
        "y=heart[:, -1]\n",
        "\n",
        "print(f'X Shape: {X.shape}, y shape: {y.shape}')\n",
        "print(f'Number of patients with heart disease {np.sum(y)}')\n",
        "print(f'Percentage of patients with heart disease {(np.sum(y) / X.shape[0]):.3}')\n",
        "\n",
        "# 80/20 train_test_split\n",
        "X_train, X_test, y_train, y_test = train_test_split(X, y, train_size=0.8, random_state=9)\n",
        "\n",
        "print(f'X Train Shape: {X_train.shape}, y train shape: {y_train.shape}')\n",
        "print(f'X Test Shape: {X_test.shape}, y test shape: {y_test.shape}')\n",
        "print(f'Number of patients with heart disease (training) {np.sum(y_train)}')\n",
        "print(f'Number of patients with heart disease (test) {np.sum(y_test)}')"
      ]
    },
    {
      "cell_type": "code",
      "execution_count": 2,
      "metadata": {
        "colab": {
          "base_uri": "https://localhost:8080/",
          "height": 222
        },
        "id": "G8ZEinsSdV5g",
        "outputId": "98632148-267b-446f-fe04-c0f071980367"
      },
      "outputs": [
        {
          "name": "stdout",
          "output_type": "stream",
          "text": [
            "training score=0.8780487804878049\n"
          ]
        }
      ],
      "source": [
        "# Logistic Regression\n",
        "from sklearn.linear_model import LogisticRegression\n",
        "\n",
        "model = LogisticRegression(fit_intercept=True, max_iter=1000)\n",
        "model.fit(X_train, y_train)\n",
        "print(f'training score={model.score(X_test, y_test)}')"
      ]
    },
    {
      "cell_type": "code",
      "execution_count": 3,
      "metadata": {
        "colab": {
          "base_uri": "https://localhost:8080/",
          "height": 240
        },
        "id": "ee70TIahBrX8",
        "outputId": "84358a19-c28c-48d1-fa4f-91fcad51436f"
      },
      "outputs": [
        {
          "name": "stdout",
          "output_type": "stream",
          "text": [
            "Naive Bayes score:  0.8683\n",
            "[[ 74  16]\n",
            " [ 11 104]]\n"
          ]
        }
      ],
      "source": [
        "# Naive Bayes\n",
        "from sklearn.naive_bayes import GaussianNB\n",
        "gnb = GaussianNB()\n",
        "gnb.fit(X_train, y_train)\n",
        "y_gnb_score = gnb.predict_proba(X_test)\n",
        "\n",
        "print(\"Naive Bayes score: \",format(gnb.score(X_test, y_test),\".4f\"))\n",
        "from sklearn.metrics import confusion_matrix\n",
        "y_pred = gnb.fit(X_train, y_train).predict(X_test)\n",
        "print(confusion_matrix(y_test, y_pred))"
      ]
    },
    {
      "cell_type": "code",
      "execution_count": 4,
      "metadata": {
        "colab": {
          "base_uri": "https://localhost:8080/",
          "height": 222
        },
        "id": "GsEmSNYXB1Px",
        "outputId": "81a3da2c-7d7f-4d3e-aaa4-6e1c7d3bd930"
      },
      "outputs": [
        {
          "name": "stdout",
          "output_type": "stream",
          "text": [
            "1: 0.927\n",
            "2: 0.844\n",
            "3: 0.779\n",
            "4: 0.729\n",
            "5: 0.689\n",
            "6: 0.661\n",
            "7: 0.659\n",
            "8: 0.663\n",
            "9: 0.67\n",
            "10: 0.687\n",
            "11: 0.69\n",
            "12: 0.693\n",
            "13: 0.688\n",
            "14: 0.706\n",
            "15: 0.699\n",
            "16: 0.699\n",
            "17: 0.691\n",
            "18: 0.678\n",
            "19: 0.693\n"
          ]
        }
      ],
      "source": [
        "# KNN\n",
        "from sklearn.neighbors import KNeighborsClassifier\n",
        "from sklearn.model_selection import cross_val_score\n",
        "\n",
        "for neighbor in range (1, 20):\n",
        "    knn = KNeighborsClassifier(n_neighbors=neighbor).fit(X_train, y_train)\n",
        "    print(f'{neighbor}: {np.round(np.mean(cross_val_score(knn, X_train, y_train, cv=3)),3)}')"
      ]
    },
    {
      "cell_type": "code",
      "execution_count": 5,
      "metadata": {
        "colab": {
          "base_uri": "https://localhost:8080/",
          "height": 240
        },
        "id": "4riEdweKB6QD",
        "outputId": "1a636cf0-413d-46e7-dc43-d71065efee6d"
      },
      "outputs": [
        {
          "name": "stdout",
          "output_type": "stream",
          "text": [
            "P(classification) 9 Neighbors = 0.951\n",
            "Confusion matrix: \n",
            " [[ 90   0]\n",
            " [ 10 105]]\n"
          ]
        }
      ],
      "source": [
        "#Accuracy Score for KNN\n",
        "knn = KNeighborsClassifier(n_neighbors=2).fit(X_train, y_train)\n",
        "y_pred = knn.predict(X_test)\n",
        "\n",
        "print(\"P(classification) 9 Neighbors =\", np.round(accuracy_score(y_test, y_pred), 3))\n",
        "print(\"Confusion matrix: \\n\", confusion_matrix(y_test, y_pred))"
      ]
    },
    {
      "cell_type": "code",
      "execution_count": 6,
      "metadata": {
        "colab": {
          "base_uri": "https://localhost:8080/",
          "height": 240
        },
        "id": "hQE3gPF7B-zX",
        "outputId": "81faa079-ff19-4ecb-ba9a-dff8514ce17e"
      },
      "outputs": [
        {
          "data": {
            "image/png": "[encoded data removed]",
            "text/plain": [
              "<Figure size 640x480 with 1 Axes>"
            ]
          },
          "metadata": {},
          "output_type": "display_data"
        },
        {
          "name": "stdout",
          "output_type": "stream",
          "text": [
            "Confusion Matrix: \n",
            "[[ 87   3]\n",
            " [  0 115]]\n",
            "Accuracy: 98.54%\n"
          ]
        }
      ],
      "source": [
        "# Decision Tree\n",
        "# fit\n",
        "from sklearn.tree import DecisionTreeClassifier\n",
        "clf = DecisionTreeClassifier(random_state=9)\n",
        "clf = clf.fit(X_train, y_train)\n",
        "y_hat = clf.predict(X_test)\n",
        "\n",
        "#model \n",
        "from sklearn.tree import plot_tree\n",
        "plot_tree(clf)\n",
        "plt.show()\n",
        "\n",
        "\n",
        "#accuracy and confusion matrix\n",
        "from sklearn.metrics import confusion_matrix\n",
        "\n",
        "Cmat = confusion_matrix(y_test, y_hat)\n",
        "acc = clf.score(X_test,y_test)\n",
        "\n",
        "print(\"Confusion Matrix: \")\n",
        "print(Cmat)\n",
        "print(\"Accuracy: \" + str(format(acc*100,'.2f')) + '%')"
      ]
    },
    {
      "cell_type": "code",
      "execution_count": 46,
      "metadata": {
        "colab": {
          "base_uri": "https://localhost:8080/"
        },
        "id": "Zvj8qqWrCB5K",
        "outputId": "ed3f9871-fd46-4152-890b-856583a2a97a"
      },
      "outputs": [
        {
          "name": "stdout",
          "output_type": "stream",
          "text": [
            "Model: \"sequential_10\"\n",
            "_________________________________________________________________\n",
            " Layer (type)                Output Shape              Param #   \n",
            "=================================================================\n",
            " dense_73 (Dense)            (None, 13)                182       \n",
            "                                                                 \n",
            " dense_74 (Dense)            (None, 9)                 126       \n",
            "                                                                 \n",
            " dense_75 (Dense)            (None, 9)                 90        \n",
            "                                                                 \n",
            " dense_76 (Dense)            (None, 9)                 90        \n",
            "                                                                 \n",
            " dense_77 (Dense)            (None, 9)                 90        \n",
            "                                                                 \n",
            " dense_78 (Dense)            (None, 1)                 10        \n",
            "                                                                 \n",
            "=================================================================\n",
            "Total params: 588\n",
            "Trainable params: 588\n",
            "Non-trainable params: 0\n",
            "_________________________________________________________________\n"
          ]
        }
      ],
      "source": [
        "# Deep Neural Net\n",
        "import tensorflow as tf\n",
        "from tensorflow import keras\n",
        "\n",
        "net = tf.keras.models.Sequential([\n",
        "    tf.keras.layers.Dense(13, input_dim=13, activation = 'relu'),\n",
        "    tf.keras.layers.Dense(9, activation = 'relu'),\n",
        "    tf.keras.layers.Dense(9, activation = 'relu'),\n",
        "    tf.keras.layers.Dense(9, activation = 'relu'),\n",
        "    tf.keras.layers.Dense(9, activation = 'relu'),\n",
        "    tf.keras.layers.Dense(1, activation='sigmoid')])\n",
        "net.compile(loss='binary_crossentropy', optimizer='adam', metrics=['accuracy'])\n",
        "net.summary()"
      ]
    },
    {
      "cell_type": "code",
      "execution_count": 44,
      "metadata": {
        "colab": {
          "base_uri": "https://localhost:8080/",
          "height": 187
        },
        "id": "eCk7cdOEkrvP",
        "outputId": "d4f0b41c-8a12-4016-a55a-21ead446d317"
      },
      "outputs": [
        {
          "name": "stdout",
          "output_type": "stream",
          "text": [
            "Epoch 1/150\n",
            "28/28 [==============================] - 1s 3ms/step - loss: 0.6932 - accuracy: 0.4988\n",
            "Epoch 2/150\n",
            "28/28 [==============================] - 0s 5ms/step - loss: 0.6932 - accuracy: 0.4988\n",
            "Epoch 3/150\n",
            "28/28 [==============================] - 0s 3ms/step - loss: 0.6932 - accuracy: 0.4744\n",
            "Epoch 4/150\n",
            "28/28 [==============================] - 0s 3ms/step - loss: 0.6932 - accuracy: 0.4720\n",
            "Epoch 5/150\n",
            "28/28 [==============================] - 0s 3ms/step - loss: 0.6932 - accuracy: 0.4988\n",
            "Epoch 6/150\n",
            "28/28 [==============================] - 0s 3ms/step - loss: 0.6932 - accuracy: 0.4988\n",
            "Epoch 7/150\n",
            "28/28 [==============================] - 0s 3ms/step - loss: 0.6932 - accuracy: 0.4720\n",
            "Epoch 8/150\n",
            "28/28 [==============================] - 0s 3ms/step - loss: 0.6932 - accuracy: 0.4573\n",
            "Epoch 9/150\n",
            "28/28 [==============================] - 0s 3ms/step - loss: 0.6932 - accuracy: 0.4988\n",
            "Epoch 10/150\n",
            "28/28 [==============================] - 0s 3ms/step - loss: 0.6932 - accuracy: 0.4915\n",
            "Epoch 11/150\n",
            "28/28 [==============================] - 0s 3ms/step - loss: 0.6932 - accuracy: 0.4768\n",
            "Epoch 12/150\n",
            "28/28 [==============================] - 0s 3ms/step - loss: 0.6932 - accuracy: 0.4817\n",
            "Epoch 13/150\n",
            "28/28 [==============================] - 0s 3ms/step - loss: 0.6932 - accuracy: 0.4768\n",
            "Epoch 14/150\n",
            "28/28 [==============================] - 0s 3ms/step - loss: 0.6932 - accuracy: 0.4671\n",
            "Epoch 15/150\n",
            "28/28 [==============================] - 0s 12ms/step - loss: 0.6932 - accuracy: 0.4671\n",
            "Epoch 16/150\n",
            "28/28 [==============================] - 0s 3ms/step - loss: 0.6932 - accuracy: 0.4744\n",
            "Epoch 17/150\n",
            "28/28 [==============================] - 0s 3ms/step - loss: 0.6932 - accuracy: 0.4988\n",
            "Epoch 18/150\n",
            "28/28 [==============================] - 0s 2ms/step - loss: 0.6932 - accuracy: 0.4988\n",
            "Epoch 19/150\n",
            "28/28 [==============================] - 0s 3ms/step - loss: 0.6932 - accuracy: 0.4720\n",
            "Epoch 20/150\n",
            "28/28 [==============================] - 0s 3ms/step - loss: 0.6932 - accuracy: 0.5012\n",
            "Epoch 21/150\n",
            "28/28 [==============================] - 0s 3ms/step - loss: 0.6932 - accuracy: 0.5012\n",
            "Epoch 22/150\n",
            "28/28 [==============================] - 0s 2ms/step - loss: 0.6932 - accuracy: 0.5012\n",
            "Epoch 23/150\n",
            "28/28 [==============================] - 0s 2ms/step - loss: 0.6931 - accuracy: 0.5012\n",
            "Epoch 24/150\n",
            "28/28 [==============================] - 0s 2ms/step - loss: 0.6932 - accuracy: 0.5012\n",
            "Epoch 25/150\n",
            "28/28 [==============================] - 0s 2ms/step - loss: 0.6932 - accuracy: 0.5012\n",
            "Epoch 26/150\n",
            "28/28 [==============================] - 0s 5ms/step - loss: 0.6932 - accuracy: 0.5012\n",
            "Epoch 27/150\n",
            "28/28 [==============================] - 0s 3ms/step - loss: 0.6932 - accuracy: 0.5012\n",
            "Epoch 28/150\n",
            "28/28 [==============================] - 0s 2ms/step - loss: 0.6932 - accuracy: 0.5012\n",
            "Epoch 29/150\n",
            "28/28 [==============================] - 0s 2ms/step - loss: 0.6932 - accuracy: 0.5012\n",
            "Epoch 30/150\n",
            "28/28 [==============================] - 0s 3ms/step - loss: 0.6932 - accuracy: 0.5012\n",
            "Epoch 31/150\n",
            "28/28 [==============================] - 0s 2ms/step - loss: 0.6932 - accuracy: 0.4573\n",
            "Epoch 32/150\n",
            "28/28 [==============================] - 0s 3ms/step - loss: 0.6932 - accuracy: 0.5012\n",
            "Epoch 33/150\n",
            "28/28 [==============================] - 0s 3ms/step - loss: 0.6933 - accuracy: 0.4573\n",
            "Epoch 34/150\n",
            "28/28 [==============================] - 0s 3ms/step - loss: 0.6932 - accuracy: 0.5012\n",
            "Epoch 35/150\n",
            "28/28 [==============================] - 0s 3ms/step - loss: 0.6932 - accuracy: 0.5012\n",
            "Epoch 36/150\n",
            "28/28 [==============================] - 0s 2ms/step - loss: 0.6932 - accuracy: 0.5012\n",
            "Epoch 37/150\n",
            "28/28 [==============================] - 0s 2ms/step - loss: 0.6932 - accuracy: 0.5012\n",
            "Epoch 38/150\n",
            "28/28 [==============================] - 0s 3ms/step - loss: 0.6932 - accuracy: 0.5012\n",
            "Epoch 39/150\n",
            "28/28 [==============================] - 0s 2ms/step - loss: 0.6932 - accuracy: 0.5012\n",
            "Epoch 40/150\n",
            "28/28 [==============================] - 0s 2ms/step - loss: 0.6932 - accuracy: 0.5012\n",
            "Epoch 41/150\n",
            "28/28 [==============================] - 0s 2ms/step - loss: 0.6932 - accuracy: 0.5012\n",
            "Epoch 42/150\n",
            "28/28 [==============================] - 0s 3ms/step - loss: 0.6932 - accuracy: 0.5012\n",
            "Epoch 43/150\n",
            "28/28 [==============================] - 0s 5ms/step - loss: 0.6932 - accuracy: 0.5012\n",
            "Epoch 44/150\n",
            "28/28 [==============================] - 0s 3ms/step - loss: 0.6932 - accuracy: 0.5012\n",
            "Epoch 45/150\n",
            "28/28 [==============================] - 0s 3ms/step - loss: 0.6932 - accuracy: 0.5012\n",
            "Epoch 46/150\n",
            "28/28 [==============================] - 0s 2ms/step - loss: 0.6932 - accuracy: 0.5012\n",
            "Epoch 47/150\n",
            "28/28 [==============================] - 0s 2ms/step - loss: 0.6932 - accuracy: 0.5012\n",
            "Epoch 48/150\n",
            "28/28 [==============================] - 0s 2ms/step - loss: 0.6932 - accuracy: 0.4744\n",
            "Epoch 49/150\n",
            "28/28 [==============================] - 0s 2ms/step - loss: 0.6932 - accuracy: 0.5061\n",
            "Epoch 50/150\n",
            "28/28 [==============================] - 0s 3ms/step - loss: 0.6932 - accuracy: 0.5012\n",
            "Epoch 51/150\n",
            "28/28 [==============================] - 0s 2ms/step - loss: 0.6932 - accuracy: 0.5012\n",
            "Epoch 52/150\n",
            "28/28 [==============================] - 0s 2ms/step - loss: 0.6932 - accuracy: 0.5012\n",
            "Epoch 53/150\n",
            "28/28 [==============================] - 0s 3ms/step - loss: 0.6932 - accuracy: 0.5012\n",
            "Epoch 54/150\n",
            "28/28 [==============================] - 0s 3ms/step - loss: 0.6932 - accuracy: 0.5012\n",
            "Epoch 55/150\n",
            "28/28 [==============================] - 0s 3ms/step - loss: 0.6932 - accuracy: 0.5012\n",
            "Epoch 56/150\n",
            "28/28 [==============================] - 0s 3ms/step - loss: 0.6932 - accuracy: 0.5012\n",
            "Epoch 57/150\n",
            "28/28 [==============================] - 0s 2ms/step - loss: 0.6932 - accuracy: 0.5012\n",
            "Epoch 58/150\n",
            "28/28 [==============================] - 0s 2ms/step - loss: 0.6932 - accuracy: 0.5012\n",
            "Epoch 59/150\n",
            "28/28 [==============================] - 0s 2ms/step - loss: 0.6932 - accuracy: 0.5012\n",
            "Epoch 60/150\n",
            "28/28 [==============================] - 0s 2ms/step - loss: 0.6932 - accuracy: 0.5012\n",
            "Epoch 61/150\n",
            "28/28 [==============================] - 0s 2ms/step - loss: 0.6932 - accuracy: 0.5012\n",
            "Epoch 62/150\n",
            "28/28 [==============================] - 0s 2ms/step - loss: 0.6932 - accuracy: 0.5012\n",
            "Epoch 63/150\n",
            "28/28 [==============================] - 0s 2ms/step - loss: 0.6932 - accuracy: 0.5012\n",
            "Epoch 64/150\n",
            "28/28 [==============================] - 0s 2ms/step - loss: 0.6932 - accuracy: 0.5012\n",
            "Epoch 65/150\n",
            "28/28 [==============================] - 0s 3ms/step - loss: 0.6932 - accuracy: 0.5012\n",
            "Epoch 66/150\n",
            "28/28 [==============================] - 0s 2ms/step - loss: 0.6932 - accuracy: 0.5012\n",
            "Epoch 67/150\n",
            "28/28 [==============================] - 0s 2ms/step - loss: 0.6932 - accuracy: 0.5012\n",
            "Epoch 68/150\n",
            "28/28 [==============================] - 0s 3ms/step - loss: 0.6932 - accuracy: 0.5012\n",
            "Epoch 69/150\n",
            "28/28 [==============================] - 0s 3ms/step - loss: 0.6932 - accuracy: 0.5012\n",
            "Epoch 70/150\n",
            "28/28 [==============================] - 0s 3ms/step - loss: 0.6932 - accuracy: 0.5012\n",
            "Epoch 71/150\n",
            "28/28 [==============================] - 0s 3ms/step - loss: 0.6932 - accuracy: 0.5012\n",
            "Epoch 72/150\n",
            "28/28 [==============================] - 0s 2ms/step - loss: 0.6932 - accuracy: 0.5012\n",
            "Epoch 73/150\n",
            "28/28 [==============================] - 0s 2ms/step - loss: 0.6932 - accuracy: 0.5012\n",
            "Epoch 74/150\n",
            "28/28 [==============================] - 0s 5ms/step - loss: 0.6932 - accuracy: 0.5012\n",
            "Epoch 75/150\n",
            "28/28 [==============================] - 0s 3ms/step - loss: 0.6932 - accuracy: 0.5012\n",
            "Epoch 76/150\n",
            "28/28 [==============================] - 0s 2ms/step - loss: 0.6932 - accuracy: 0.5012\n",
            "Epoch 77/150\n",
            "28/28 [==============================] - 0s 2ms/step - loss: 0.6932 - accuracy: 0.5012\n",
            "Epoch 78/150\n",
            "28/28 [==============================] - 0s 2ms/step - loss: 0.6933 - accuracy: 0.4793\n",
            "Epoch 79/150\n",
            "28/28 [==============================] - 0s 2ms/step - loss: 0.6932 - accuracy: 0.5012\n",
            "Epoch 80/150\n",
            "28/28 [==============================] - 0s 2ms/step - loss: 0.6932 - accuracy: 0.5012\n",
            "Epoch 81/150\n",
            "28/28 [==============================] - 0s 2ms/step - loss: 0.6932 - accuracy: 0.5012\n",
            "Epoch 82/150\n",
            "28/28 [==============================] - 0s 2ms/step - loss: 0.6931 - accuracy: 0.5012\n",
            "Epoch 83/150\n",
            "28/28 [==============================] - 0s 3ms/step - loss: 0.6932 - accuracy: 0.5012\n",
            "Epoch 84/150\n",
            "28/28 [==============================] - 0s 2ms/step - loss: 0.6932 - accuracy: 0.5012\n",
            "Epoch 85/150\n",
            "28/28 [==============================] - 0s 2ms/step - loss: 0.6932 - accuracy: 0.5012\n",
            "Epoch 86/150\n",
            "28/28 [==============================] - 0s 2ms/step - loss: 0.6932 - accuracy: 0.5012\n",
            "Epoch 87/150\n",
            "28/28 [==============================] - 0s 3ms/step - loss: 0.6932 - accuracy: 0.5012\n",
            "Epoch 88/150\n",
            "28/28 [==============================] - 0s 2ms/step - loss: 0.6932 - accuracy: 0.5012\n",
            "Epoch 89/150\n",
            "28/28 [==============================] - 0s 2ms/step - loss: 0.6932 - accuracy: 0.5012\n",
            "Epoch 90/150\n",
            "28/28 [==============================] - 0s 2ms/step - loss: 0.6932 - accuracy: 0.5012\n",
            "Epoch 91/150\n",
            "28/28 [==============================] - 0s 2ms/step - loss: 0.6932 - accuracy: 0.5012\n",
            "Epoch 92/150\n",
            "28/28 [==============================] - 0s 2ms/step - loss: 0.6932 - accuracy: 0.5012\n",
            "Epoch 93/150\n",
            "28/28 [==============================] - 0s 3ms/step - loss: 0.6932 - accuracy: 0.5012\n",
            "Epoch 94/150\n",
            "28/28 [==============================] - 0s 2ms/step - loss: 0.6932 - accuracy: 0.5012\n",
            "Epoch 95/150\n",
            "28/28 [==============================] - 0s 2ms/step - loss: 0.6932 - accuracy: 0.5012\n",
            "Epoch 96/150\n",
            "28/28 [==============================] - 0s 5ms/step - loss: 0.6932 - accuracy: 0.5012\n",
            "Epoch 97/150\n",
            "28/28 [==============================] - 0s 3ms/step - loss: 0.6932 - accuracy: 0.5012\n",
            "Epoch 98/150\n",
            "28/28 [==============================] - 0s 3ms/step - loss: 0.6932 - accuracy: 0.5012\n",
            "Epoch 99/150\n",
            "28/28 [==============================] - 0s 3ms/step - loss: 0.6932 - accuracy: 0.5012\n",
            "Epoch 100/150\n",
            "28/28 [==============================] - 0s 2ms/step - loss: 0.6932 - accuracy: 0.5012\n",
            "Epoch 101/150\n",
            "28/28 [==============================] - 0s 2ms/step - loss: 0.6932 - accuracy: 0.5012\n",
            "Epoch 102/150\n",
            "28/28 [==============================] - 0s 2ms/step - loss: 0.6932 - accuracy: 0.5012\n",
            "Epoch 103/150\n",
            "28/28 [==============================] - 0s 5ms/step - loss: 0.6932 - accuracy: 0.5012\n",
            "Epoch 104/150\n",
            "28/28 [==============================] - 0s 3ms/step - loss: 0.6932 - accuracy: 0.5012\n",
            "Epoch 105/150\n",
            "28/28 [==============================] - 0s 3ms/step - loss: 0.6932 - accuracy: 0.5012\n",
            "Epoch 106/150\n",
            "28/28 [==============================] - 0s 3ms/step - loss: 0.6932 - accuracy: 0.5012\n",
            "Epoch 107/150\n",
            "28/28 [==============================] - 0s 3ms/step - loss: 0.6932 - accuracy: 0.5012\n",
            "Epoch 108/150\n",
            "28/28 [==============================] - 0s 2ms/step - loss: 0.6932 - accuracy: 0.5012\n",
            "Epoch 109/150\n",
            "28/28 [==============================] - 0s 2ms/step - loss: 0.6932 - accuracy: 0.5012\n",
            "Epoch 110/150\n",
            "28/28 [==============================] - 0s 3ms/step - loss: 0.6932 - accuracy: 0.4695\n",
            "Epoch 111/150\n",
            "28/28 [==============================] - 0s 2ms/step - loss: 0.6932 - accuracy: 0.5012\n",
            "Epoch 112/150\n",
            "28/28 [==============================] - 0s 2ms/step - loss: 0.6932 - accuracy: 0.5012\n",
            "Epoch 113/150\n",
            "28/28 [==============================] - 0s 2ms/step - loss: 0.6932 - accuracy: 0.4793\n",
            "Epoch 114/150\n",
            "28/28 [==============================] - 0s 2ms/step - loss: 0.6932 - accuracy: 0.5012\n",
            "Epoch 115/150\n",
            "28/28 [==============================] - 0s 5ms/step - loss: 0.6932 - accuracy: 0.5012\n",
            "Epoch 116/150\n",
            "28/28 [==============================] - 0s 3ms/step - loss: 0.6932 - accuracy: 0.5012\n",
            "Epoch 117/150\n",
            "28/28 [==============================] - 0s 2ms/step - loss: 0.6931 - accuracy: 0.5012\n",
            "Epoch 118/150\n",
            "28/28 [==============================] - 0s 2ms/step - loss: 0.6932 - accuracy: 0.5012\n",
            "Epoch 119/150\n",
            "28/28 [==============================] - 0s 2ms/step - loss: 0.6932 - accuracy: 0.5012\n",
            "Epoch 120/150\n",
            "28/28 [==============================] - 0s 3ms/step - loss: 0.6932 - accuracy: 0.5012\n",
            "Epoch 121/150\n",
            "28/28 [==============================] - 0s 2ms/step - loss: 0.6932 - accuracy: 0.5012\n",
            "Epoch 122/150\n",
            "28/28 [==============================] - 0s 2ms/step - loss: 0.6932 - accuracy: 0.5012\n",
            "Epoch 123/150\n",
            "28/28 [==============================] - 0s 2ms/step - loss: 0.6932 - accuracy: 0.5012\n",
            "Epoch 124/150\n",
            "28/28 [==============================] - 0s 3ms/step - loss: 0.6932 - accuracy: 0.5012\n",
            "Epoch 125/150\n",
            "28/28 [==============================] - 0s 2ms/step - loss: 0.6932 - accuracy: 0.5012\n",
            "Epoch 126/150\n",
            "28/28 [==============================] - 0s 2ms/step - loss: 0.6932 - accuracy: 0.5012\n",
            "Epoch 127/150\n",
            "28/28 [==============================] - 0s 3ms/step - loss: 0.6932 - accuracy: 0.5012\n",
            "Epoch 128/150\n",
            "28/28 [==============================] - 0s 2ms/step - loss: 0.6932 - accuracy: 0.5012\n",
            "Epoch 129/150\n",
            "28/28 [==============================] - 0s 3ms/step - loss: 0.6932 - accuracy: 0.5012\n",
            "Epoch 130/150\n",
            "28/28 [==============================] - 0s 2ms/step - loss: 0.6932 - accuracy: 0.5012\n",
            "Epoch 131/150\n",
            "28/28 [==============================] - 0s 5ms/step - loss: 0.6932 - accuracy: 0.5012\n",
            "Epoch 132/150\n",
            "28/28 [==============================] - 0s 3ms/step - loss: 0.6932 - accuracy: 0.5012\n",
            "Epoch 133/150\n",
            "28/28 [==============================] - 0s 3ms/step - loss: 0.6932 - accuracy: 0.5012\n",
            "Epoch 134/150\n",
            "28/28 [==============================] - 0s 3ms/step - loss: 0.6932 - accuracy: 0.5012\n",
            "Epoch 135/150\n",
            "28/28 [==============================] - 0s 3ms/step - loss: 0.6932 - accuracy: 0.5012\n",
            "Epoch 136/150\n",
            "28/28 [==============================] - 0s 3ms/step - loss: 0.6932 - accuracy: 0.5012\n",
            "Epoch 137/150\n",
            "28/28 [==============================] - 0s 3ms/step - loss: 0.6932 - accuracy: 0.5012\n",
            "Epoch 138/150\n",
            "28/28 [==============================] - 0s 2ms/step - loss: 0.6932 - accuracy: 0.5012\n",
            "Epoch 139/150\n",
            "28/28 [==============================] - 0s 2ms/step - loss: 0.6932 - accuracy: 0.5012\n",
            "Epoch 140/150\n",
            "28/28 [==============================] - 0s 3ms/step - loss: 0.6932 - accuracy: 0.5012\n",
            "Epoch 141/150\n",
            "28/28 [==============================] - 0s 3ms/step - loss: 0.6932 - accuracy: 0.5012\n",
            "Epoch 142/150\n",
            "28/28 [==============================] - 0s 2ms/step - loss: 0.6931 - accuracy: 0.5012\n",
            "Epoch 143/150\n",
            "28/28 [==============================] - 0s 2ms/step - loss: 0.6932 - accuracy: 0.5012\n",
            "Epoch 144/150\n",
            "28/28 [==============================] - 0s 3ms/step - loss: 0.6932 - accuracy: 0.5012\n",
            "Epoch 145/150\n",
            "28/28 [==============================] - 0s 2ms/step - loss: 0.6932 - accuracy: 0.5012\n",
            "Epoch 146/150\n",
            "28/28 [==============================] - 0s 4ms/step - loss: 0.6932 - accuracy: 0.4646\n",
            "Epoch 147/150\n",
            "28/28 [==============================] - 0s 2ms/step - loss: 0.6932 - accuracy: 0.4963\n",
            "Epoch 148/150\n",
            "28/28 [==============================] - 0s 2ms/step - loss: 0.6932 - accuracy: 0.4915\n",
            "Epoch 149/150\n",
            "28/28 [==============================] - 0s 3ms/step - loss: 0.6932 - accuracy: 0.4915\n",
            "Epoch 150/150\n",
            "28/28 [==============================] - 0s 2ms/step - loss: 0.6932 - accuracy: 0.4866\n"
          ]
        },
        {
          "data": {
            "text/plain": [
              "<keras.callbacks.History at 0x7fbd10815990>"
            ]
          },
          "execution_count": 44,
          "metadata": {},
          "output_type": "execute_result"
        }
      ],
      "source": [
        "# fit the keras model on the dataset\n",
        "net.fit(X_train, y_train, epochs=150, batch_size=30)"
      ]
    },
    {
      "cell_type": "code",
      "execution_count": 45,
      "metadata": {
        "id": "x9e4tjHmkxW1"
      },
      "outputs": [
        {
          "name": "stdout",
          "output_type": "stream",
          "text": [
            "Test loss: 0.6932\n",
            "Test accuracy: 0.439\n"
          ]
        }
      ],
      "source": [
        "# score\n",
        "score = net.evaluate(X_test, y_test, verbose=0)\n",
        "print(\"Test loss:\", format(score[0],\".4f\"))\n",
        "print(f'Test accuracy: {score[1]:.3}')"
      ]
    }
  ],
  "metadata": {
    "colab": {
      "provenance": []
    },
    "kernelspec": {
      "display_name": "Python 3.10.8 ('ECE539')",
      "language": "python",
      "name": "python3"
    },
    "language_info": {
      "codemirror_mode": {
        "name": "ipython",
        "version": 3
      },
      "file_extension": ".py",
      "mimetype": "text/x-python",
      "name": "python",
      "nbconvert_exporter": "python",
      "pygments_lexer": "ipython3",
      "version": "3.10.8"
    },
    "vscode": {
      "interpreter": {
        "hash": "6858e184385ada314b992e065cb870dd4a8d769277530c9e0e7025b914e29b42"
      }
    }
  },
  "nbformat": 4,
  "nbformat_minor": 0
}
